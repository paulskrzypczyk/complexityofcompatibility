{
 "cells": [
  {
   "cell_type": "markdown",
   "metadata": {},
   "source": [
    "# Estimating entanglement in teleportation experiments\n",
    "## Paul Skrzypczyk, Matty Hoban, Belen Sainz and Noah Linden\n",
    "### Jupyter notebook to accompany [arXiv:1908.xxxxx](https://arxiv.org/abs/1908.xxxxx)"
   ]
  },
  {
   "cell_type": "markdown",
   "metadata": {},
   "source": [
    "#### Introduction\n",
    "\n",
    "In this notebook we reproduce the numerical findings from the above paper. \n",
    "\n",
    "To run this notebook you will need:\n",
    "\n",
    "- Matlab with the [API for Python](https://www.mathworks.com/help/matlab/matlab-engine-for-python.html) installed.\n",
    "- The [Calysto Matlab kernel for Python](https://github.com/Calysto/matlab_kernel) \n",
    "- [CVX](http://cvxr.com/) Software for Disciplined Convex Programming \n",
    "- [QETlab](http://www.qetlab.com/Main_Page) a MATLAB toolbook for quantum entanglement.\n",
    "- The codes provided in this the github repository"
   ]
  },
  {
   "cell_type": "markdown",
   "metadata": {},
   "source": [
    "### Example with d = 3, m = 3, o = 2"
   ]
  },
  {
   "cell_type": "markdown",
   "metadata": {},
   "source": [
    "Preliminaries"
   ]
  },
  {
   "cell_type": "code",
   "execution_count": 155,
   "metadata": {},
   "outputs": [],
   "source": [
    "o = 2; % number of outcomes\n",
    "m = 3; % number of measurements\n",
    "d = 3; % dimension of Hilbert space\n",
    "nd = o^m; % number of outcomes of maximal parent\n",
    "\n",
    "SingleParty = genSinglePartyArray(o,m); % generate deterministic strategies\n",
    "SingleParty = squeeze(SingleParty(1,:,:)); % only need first element because 2 outcome"
   ]
  },
  {
   "cell_type": "markdown",
   "metadata": {},
   "source": [
    "Define the measurements"
   ]
  },
  {
   "cell_type": "code",
   "execution_count": 157,
   "metadata": {},
   "outputs": [],
   "source": [
    "theta = pi/8;\n",
    "\n",
    "ct = cos(theta);\n",
    "st = sin(theta);\n",
    "\n",
    "X = Pauli(1);\n",
    "Z = Pauli(3);\n",
    "\n",
    "X01 = zeros(3,3); X01(1:2,1:2) = X;\n",
    "X02 = zeros(3,3); X02([1,3],[1,3]) = X;\n",
    "X12 = zeros(3,3); X12(2:3,2:3) = X;\n",
    "\n",
    "Z01 = zeros(3,3); Z01(1:2,1:2) = Z;\n",
    "Z02 = zeros(3,3); Z02([1,3],[1,3]) = Z;\n",
    "Z12 = zeros(3,3); Z12(2:3,2:3) = Z;\n",
    "\n",
    "I3 = eye(3);\n",
    "\n",
    "Max = zeros(3,3,3);\n",
    "\n",
    "Max(:,:,1) = 1/2*(I3 + 3*sqrt(2)/8*X01 + 1/2*X02);\n",
    "Max(:,:,2) = 1/2*(I3 + 3*sqrt(2)/8*Z01 + 1/2*X12);\n",
    "Max(:,:,3) = 1/2*(I3 + 1/2*Z02 + 1/2*Z12);"
   ]
  },
  {
   "cell_type": "markdown",
   "metadata": {},
   "source": [
    "Analytic form for (maximal) parent:"
   ]
  },
  {
   "cell_type": "code",
   "execution_count": 158,
   "metadata": {},
   "outputs": [],
   "source": [
    "Ga = zeros(3,3,8);\n",
    "\n",
    "Ga(1:2,1:2,1) = 3/8*[ct;st]*[ct,st];\n",
    "Ga(1:2,1:2,3) = 3/8*[st;ct]*[st,ct];\n",
    "Ga(1:2,1:2,5) = 3/8*[-ct;st]*[-ct,st];\n",
    "Ga(1:2,1:2,7) = 3/8*[-st;ct]*[-st,ct];\n",
    "\n",
    "Ga(:,:,2) = 3/8*[1/sqrt(6);1/sqrt(6);sqrt(2/3)]*[1/sqrt(6),1/sqrt(6),sqrt(2/3)];\n",
    "Ga(:,:,4) = 3/8*[1/sqrt(6);-1/sqrt(6);sqrt(2/3)]*[1/sqrt(6),-1/sqrt(6),sqrt(2/3)];\n",
    "Ga(:,:,6) = 3/8*[1/sqrt(6);-1/sqrt(6);-sqrt(2/3)]*[1/sqrt(6),-1/sqrt(6),-sqrt(2/3)];\n",
    "Ga(:,:,8) = 3/8*[1/sqrt(6);1/sqrt(6);-sqrt(2/3)]*[1/sqrt(6),1/sqrt(6),-sqrt(2/3)];"
   ]
  },
  {
   "cell_type": "markdown",
   "metadata": {},
   "source": [
    "Check that this is a valid normalised measurement (POVM elements are positive-semidefinite by construction)"
   ]
  },
  {
   "cell_type": "code",
   "execution_count": 159,
   "metadata": {},
   "outputs": [
    {
     "name": "stdout",
     "output_type": "stream",
     "text": [
      "ans =\n",
      "    1.0000    0.0000         0\n",
      "    0.0000    1.0000         0\n",
      "         0         0    1.0000\n"
     ]
    }
   ],
   "source": [
    "sum(Ga,3)"
   ]
  },
  {
   "cell_type": "markdown",
   "metadata": {},
   "source": [
    "Check that the parent faithfully reproduces the measurements:"
   ]
  },
  {
   "cell_type": "code",
   "execution_count": 160,
   "metadata": {},
   "outputs": [
    {
     "name": "stdout",
     "output_type": "stream",
     "text": [
      "ans =\n",
      "   1.0e-15 *\n",
      "    0.1110    0.2498    0.1110\n"
     ]
    }
   ],
   "source": [
    "[sumall(abs(Max(:,:,1) - sum(Ga(:,:,[1,2,3,4]),3))) ...\n",
    "sumall(abs(Max(:,:,2) - sum(Ga(:,:,[1,2,5,6]),3))) ...\n",
    "sumall(abs(Max(:,:,3) - sum(Ga(:,:,[1,3,5,7]),3)))]"
   ]
  },
  {
   "cell_type": "markdown",
   "metadata": {},
   "source": [
    "Check via the SDP that the measurements are jointly measurable.  \n",
    "This is a consistency check, since we already know this is the case."
   ]
  },
  {
   "cell_type": "code",
   "execution_count": 161,
   "metadata": {},
   "outputs": [
    {
     "name": "stdout",
     "output_type": "stream",
     "text": [
      "cvx_optval =\n",
      "  -5.8370e-09\n"
     ]
    }
   ],
   "source": [
    "cvx_begin sdp quiet\n",
    "\n",
    "    variable nu \n",
    "    \n",
    "    variable Glam(d,d,nd) hermitian\n",
    "    % Glam is the parent POVM\n",
    "    \n",
    "    maximise nu\n",
    "\n",
    "    Max == squeeze(sum(permute(repmat(SingleParty,[1,1,d,d]),[3,4,1,2]).*...\n",
    "    permute(repmat(Glam,[1,1,1,m]),[1,2,4,3]),4));\n",
    "\n",
    "    sum(Glam,3) == eye(d);\n",
    "    % sum_lndambda G_lambda == 1\n",
    "    \n",
    "    for j = 1:nd\n",
    "        Glam(:,:,j) - nu*eye(d) == hermitian_semidefinite(d)\n",
    "    end\n",
    "           \n",
    "    nu <= 0\n",
    "    \n",
    "cvx_end\n",
    "\n",
    "cvx_optval"
   ]
  },
  {
   "cell_type": "markdown",
   "metadata": {},
   "source": [
    "Check that the measurements cannot be reproduced by a parent with 7 outcomes or less:"
   ]
  },
  {
   "cell_type": "code",
   "execution_count": 162,
   "metadata": {},
   "outputs": [
    {
     "name": "stdout",
     "output_type": "stream",
     "text": [
      "results =\n",
      "  Columns 1 through 7\n",
      "   -0.0429   -0.0399   -0.0298   -0.0266   -0.0429   -0.0399   -0.0298\n",
      "  Column 8\n",
      "   -0.0266\n"
     ]
    }
   ],
   "source": [
    "results = NaN*zeros(1,nd);\n",
    "V = zeros(d,d,m+1,8);\n",
    "D = zeros(d,d,m+1,8);\n",
    "\n",
    "for i = 1:8\n",
    "    cvx_begin sdp quiet\n",
    "\n",
    "        variable Glam(d,d,nd) hermitian\n",
    "        variable nu \n",
    "        \n",
    "        dual variables rho\n",
    "        dual variable omega\n",
    "\n",
    "        maximise nu\n",
    "        \n",
    "        rho : Max == squeeze(sum(permute(repmat(SingleParty,[1,1,d,d]),[3,4,1,2]).*...\n",
    "        permute(repmat(Glam,[1,1,1,m]),[1,2,4,3]),4));\n",
    "\n",
    "        omega : eye(d) == sum(Glam,3)\n",
    "        % sum_lambda G_lambda == 1\n",
    "        \n",
    "        Glam(:,:,i) == zeros(d)\n",
    "        \n",
    "        for j = 1:nd\n",
    "            Glam(:,:,j) - nu*eye(d) == hermitian_semidefinite(d)\n",
    "        end\n",
    "        \n",
    "        nu <= 0\n",
    "        \n",
    "    cvx_end\n",
    "    \n",
    "    for x = 1:m\n",
    "        [V(:,:,x,i),D(:,:,x,i)] = eig(rho(:,:,x));\n",
    "    end\n",
    "    [V(:,:,m+1,i),D(:,:,m+1,i)] = eig(omega);\n",
    "    \n",
    "    results(1,i) = cvx_optval;\n",
    "end\n",
    "\n",
    "results"
   ]
  },
  {
   "cell_type": "markdown",
   "metadata": {},
   "source": [
    "Ansatz dual solution giving analytic proof of the above numerical result:"
   ]
  },
  {
   "cell_type": "code",
   "execution_count": 163,
   "metadata": {},
   "outputs": [
    {
     "name": "stdout",
     "output_type": "stream",
     "text": [
      "ans =\n",
      "  Columns 1 through 7\n",
      "   -0.0030   -0.0370   -0.0030   -0.0105   -0.0030   -0.0370   -0.0030\n",
      "   -0.0030   -0.0370   -0.0030   -0.0105   -0.0030   -0.0370   -0.0030\n",
      "  Column 8\n",
      "   -0.0105\n",
      "   -0.0105\n"
     ]
    }
   ],
   "source": [
    "alpha = [1,sqrt(2)/4];\n",
    "beta = [0,sqrt(2)/4];\n",
    "gam = [0,sqrt(3)/2];\n",
    "\n",
    "Id = eye(3);\n",
    "\n",
    "bound = zeros(1,8);\n",
    "bounda = zeros(1,8);\n",
    "\n",
    "for a0 = 0:1\n",
    "    for a1 = 0:1\n",
    "        for a2 = 0:1\n",
    "            av = [a0 a1 a2];\n",
    "            psi = alpha(a2+1)*(-1)^(a0+a1)*Id(:,a1+1) + beta(a2+1)*Id(:,~a1+1) + gam(a2+1)*(-1)^(a0*a1)*Id(:,3);\n",
    "            omegalam(:,:,1+a2+2*a1+4*a0) = (~a2*(~a0+~a1)+a2*(~a0+~a1-1))/5*psi*psi';\n",
    "            bound(1,1+a2+2*a1+4*a0) = trace(omegalam(:,:,1+a2+2*a1+4*a0));\n",
    "            for x = 0:2\n",
    "                rhoxlam(:,:,x+1,1+a2+2*a1+4*a0) = -1/5*(-1)^av(x+1)*psi*psi';\n",
    "                bound(1,1+a2+2*a1+4*a0) = bound(1,1+a2+2*a1+4*a0) + trace(rhoxlam(:,:,x+1,1+a2+2*a1+4*a0)*Max(:,:,x+1));\n",
    "            end\n",
    "            if a2 == 0\n",
    "                bounda(1,1+a2++2*a1+4*a0) = 1/8-3/20*ct^2;\n",
    "            elseif a2 == 1\n",
    "                bounda(1,1+a2++2*a1+4*a0) = 3/80 - sqrt(6)/40 - (-1)^a1*3/80*ct*st;\n",
    "            end\n",
    "        end\n",
    "    end\n",
    "end\n",
    "\n",
    "[bound; bounda]"
   ]
  },
  {
   "cell_type": "markdown",
   "metadata": {},
   "source": [
    "Check numerically that these are indeed valid solutions to the dual SDP:"
   ]
  },
  {
   "cell_type": "code",
   "execution_count": 164,
   "metadata": {},
   "outputs": [
    {
     "name": "stdout",
     "output_type": "stream",
     "text": [
      "mineig =\n",
      "   1.0e-16 *\n",
      "  Columns 1 through 4\n",
      "      NaN + 0.0000i   0.0000 + 0.0000i   0.0000 + 0.0000i   0.0000 + 0.0000i\n",
      "   0.0000 + 0.0000i      NaN + 0.0000i  -0.0289 + 0.0000i   0.0000 + 0.0000i\n",
      "   0.0000 + 0.0000i   0.0000 + 0.0000i      NaN + 0.0000i   0.0000 + 0.0000i\n",
      "  -0.0289 + 0.0000i   0.0000 + 0.0000i   0.0000 + 0.0000i      NaN + 0.0000i\n",
      "   0.0000 + 0.0000i   0.0000 + 0.0000i   0.0000 + 0.0000i   0.0000 + 0.0000i\n",
      "  -0.0289 + 0.0000i   0.0000 + 0.0000i  -0.5551 + 0.0000i  -0.0289 + 0.0000i\n",
      "   0.0000 + 0.0000i   0.0000 + 0.0000i   0.0000 + 0.0000i   0.0000 + 0.0000i\n",
      "  -0.1665 + 0.0249i  -0.0289 + 0.0000i  -0.0289 + 0.0000i   0.0000 + 0.0000i\n",
      "  Columns 5 through 8\n",
      "   0.0000 + 0.0000i   0.0000 + 0.0000i   0.0000 + 0.0000i   0.0000 + 0.0000i\n",
      "  -0.0289 + 0.0000i   0.0000 + 0.0000i  -0.5551 + 0.0000i  -0.0289 + 0.0000i\n",
      "   0.0000 + 0.0000i   0.0000 + 0.0000i   0.0000 + 0.0000i   0.0000 + 0.0000i\n",
      "  -0.5551 + 0.0000i  -0.0289 + 0.0000i  -0.0289 + 0.0000i   0.0000 + 0.0000i\n",
      "      NaN + 0.0000i   0.0000 + 0.0000i   0.0000 + 0.0000i   0.0000 + 0.0000i\n",
      "   0.0000 + 0.0000i      NaN + 0.0000i  -0.0289 + 0.0000i   0.0000 + 0.0000i\n",
      "   0.0000 + 0.0000i   0.0000 + 0.0000i      NaN + 0.0000i   0.0000 + 0.0000i\n",
      "  -0.0289 + 0.0000i   0.0000 + 0.0000i   0.0000 + 0.0000i      NaN + 0.0000i\n",
      "tracecond =\n",
      "  Columns 1 through 7\n",
      "    1.0000   -0.6000   -0.6000   -2.2000   -0.6000   -2.2000   -2.2000\n",
      "  Column 8\n",
      "   -3.8000\n"
     ]
    }
   ],
   "source": [
    "mineig = NaN*zeros(8,8);\n",
    "tracecond = zeros(1,8);\n",
    "for i = 1:8\n",
    "    for j = [1:i-1, i+1:8]\n",
    "        mineig(i,j) = eigs(omegalam(:,:,i) + sum(permute(repmat(SingleParty(:,j),...\n",
    "            [1,d,d]),[2,3,1]).*rhoxlam(:,:,:,i),3),1,'smallestreal');\n",
    "    end\n",
    "    tracecond(1,i) = trace(sum(sum(permute(repmat(SingleParty(:,[1:i-1, i+1:8]),...\n",
    "        [1,1,d,d]),[3,4,1,2]).*rhoxlam(:,:,:,[1:i-1, i+1:8]),4),3)) + 7*trace(omegalam(:,:,i));\n",
    "end\n",
    "mineig\n",
    "tracecond"
   ]
  },
  {
   "cell_type": "markdown",
   "metadata": {},
   "source": [
    "### Attempt to sample from the space of measurements"
   ]
  },
  {
   "cell_type": "markdown",
   "metadata": {},
   "source": [
    "Basic idea: \n",
    "- Pick a set of random unitary matrices (from Haar), and use this to define a set of projective measurements\n",
    "- Calculate the robustness of this set of measurements, and extract the dual variables\n",
    "- Maximise the linear functional obtained from the dual variables over the set of compatible measurements\n",
    "\n",
    "This will generate a set of compatible measurements on the boundary of the set. We can then check the complexity of these boundary sets of measurements"
   ]
  },
  {
   "cell_type": "code",
   "execution_count": 263,
   "metadata": {},
   "outputs": [
    {
     "name": "stdout",
     "output_type": "stream",
     "text": [
      "Created file '/home/phyps/Dropbox/MATLAB/Noah/sampleCompatibleBoundary.m'.\n"
     ]
    }
   ],
   "source": [
    "%%file sampleCompatibleBoundary.m\n",
    "\n",
    "function C = sampleCompatibleBoundary(d,m)\n",
    "\n",
    "o = d;\n",
    "nd = o^m; % number of outcomes of maximal parent\n",
    "eps = 1e-6; % tolerance for having found a parent\n",
    "flag = 0;\n",
    "\n",
    "Max = genRandProjMeas(d,m);\n",
    "Max = Max(:,:,1:o-1,:);\n",
    "\n",
    "SingleParty = genSinglePartyArray(o,m); % generate deterministic strategies\n",
    "SingleParty = SingleParty(1:o-1,:,:); % don't need last outcome\n",
    "\n",
    "% 1. obtain dual variables\n",
    "\n",
    "cvx_begin sdp quiet\n",
    "\n",
    "    variable nu \n",
    "    variable Glam(d,d,nd) hermitian\n",
    "\n",
    "    dual variable rhoax\n",
    "    dual variable omega\n",
    "\n",
    "    maximise nu\n",
    "\n",
    "    rhoax : Max == sum(permute(repmat(SingleParty,[1,1,1,d,d]),[4,5,1,2,3]).*...\n",
    "    permute(repmat(Glam,[1,1,1,o-1,m]),[1,2,4,5,3]),5);\n",
    "\n",
    "    omega : eye(d) == sum(Glam,3);\n",
    "\n",
    "    for j = 1:nd\n",
    "        Glam(:,:,j) - nu*eye(d) == hermitian_semidefinite(d)\n",
    "    end\n",
    "\n",
    "    nu <= 0\n",
    "\n",
    "cvx_end\n",
    "\n",
    "% 2. Find compatible measurements minimising linear functional\n",
    "\n",
    "cvx_begin quiet\n",
    "\n",
    "    variable Glam(d,d,nd) hermitian semidefinite\n",
    "    expression Nax(d,d,o-1,m)\n",
    "\n",
    "    Nax = sum(permute(repmat(SingleParty,[1,1,1,d,d]),[4,5,1,2,3]).*...\n",
    "    permute(repmat(Glam,[1,1,1,o-1,m]),[1,2,4,5,3]),5);\n",
    "\n",
    "    minimise real(sumall(conj(rhoax).*Nax(:,:,1:o-1,:))) + trace(omega)\n",
    "\n",
    "    sum(Glam,3) == eye(d)\n",
    "\n",
    "cvx_end\n",
    "\n",
    "% 3. check for simpler parent\n",
    "\n",
    "results = NaN*zeros(1,nd);\n",
    "\n",
    "for i = 1:nd\n",
    "\n",
    "    cvx_begin sdp quiet\n",
    "\n",
    "        variable nu \n",
    "        variable Glam(d,d,nd) hermitian\n",
    "\n",
    "        maximise nu\n",
    "\n",
    "        Nax == sum(permute(repmat(SingleParty,[1,1,1,d,d]),[4,5,1,2,3]).*...\n",
    "            permute(repmat(Glam,[1,1,1,o-1,m]),[1,2,4,5,3]),5);\n",
    "\n",
    "        eye(d) == sum(Glam,3);\n",
    "\n",
    "        for j = 1:nd\n",
    "            Glam(:,:,j) - nu*eye(d) == hermitian_semidefinite(d)\n",
    "        end\n",
    "\n",
    "        nu <= 0\n",
    "\n",
    "        Glam(:,:,i) == zeros(d)\n",
    "\n",
    "    cvx_end\n",
    "\n",
    "    results(1,i) = cvx_optval;\n",
    "end\n",
    "\n",
    "% now the complicated bit: try and search (smartly) for the number of elements needed\n",
    "\n",
    "list1 = find(results >= -eps); % generate primary list\n",
    "n1 = length(list1); % find its size\n",
    "listp = list1'; %the initial 'previous list' will be list1\n",
    "    \n",
    "for j = 2:n1 % need to consider subets of size 2 and above\n",
    "    [np,~] = size(listp); % size of the previous list of subsets\n",
    "    combs = nchoosek(list1,j); % these are _all_ the possible combinations compatible with the singletons\n",
    "    [nc,~] = size(combs); % number of combinations\n",
    "    resultsj = [];\n",
    "    for k = 1:nc\n",
    "        subs = nchoosek(combs(k,:),j-1); % create al the subsets of size k-1 of the list of combinations of size k\n",
    "        [ns,~] = size(subs); % number of subsets to check\n",
    "        issubsetv = zeros(1,ns); % vector to store the comparison\n",
    "        for l = 1:ns\n",
    "            for n = 1:np\n",
    "                issubsetv(1,l) = issubsetv(1,l) + double(isequal(subs(l,:),listp(n,:)));\n",
    "                % check whether the subset l is contained in the previous list\n",
    "            end\n",
    "        end\n",
    "\n",
    "        if prod(issubsetv) == 1 % then this is a valid choice\n",
    "\n",
    "            cvx_begin sdp quiet\n",
    "\n",
    "                variable nu \n",
    "                variable Glam(d,d,nd) hermitian\n",
    "\n",
    "                maximise nu\n",
    "\n",
    "                Nax == sum(permute(repmat(SingleParty,[1,1,1,d,d]),[4,5,1,2,3]).*...\n",
    "                    permute(repmat(Glam,[1,1,1,o-1,m]),[1,2,4,5,3]),5);\n",
    "\n",
    "                eye(d) == sum(Glam,3);\n",
    "\n",
    "                for lam = 1:nd\n",
    "                    Glam(:,:,lam) - nu*eye(d) == hermitian_semidefinite(d)\n",
    "                end\n",
    "\n",
    "                nu <= 0\n",
    "\n",
    "                for l = 1:j % these are the elements that now need to vanish\n",
    "                    Glam(:,:,combs(k,l)) == zeros(d)\n",
    "                end\n",
    "\n",
    "            cvx_end\n",
    "\n",
    "            resultsj = [resultsj cvx_optval]; % add the result\n",
    "            \n",
    "        end  \n",
    "    end\n",
    "        \n",
    "    listj = find(resultsj >= -eps); % find out which combinations give a valid parent\n",
    "\n",
    "    if length(listj) == 0 % if none work\n",
    "        C = nd - j + 1; % must have only been possible to find a parent at the level above\n",
    "        flag = 1; % flag to say that we are done\n",
    "        break % break out of the loop - we're finished\n",
    "    end\n",
    "        \n",
    "    listp = combs(listj,:); % if we didn't break out of the loop, then we need to set listp to be the new list found\n",
    "        \n",
    "end\n",
    "\n",
    "% if we never broke out above, then it was possible to set everybody in list1 to vanish\n",
    "\n",
    "if flag == 0\n",
    "    C = nd - n1;\n",
    "end"
   ]
  },
  {
   "cell_type": "markdown",
   "metadata": {},
   "source": [
    "### (d = 3, m = 2) data collection"
   ]
  },
  {
   "cell_type": "code",
   "execution_count": 320,
   "metadata": {},
   "outputs": [
    {
     "name": "stdout",
     "output_type": "stream",
     "text": [
      "Elapsed time is 1888.340974 seconds.\n"
     ]
    },
    {
     "data": {
      "image/png": "[encoded data removed]",
      "text/plain": [
       "<IPython.core.display.Image object>"
      ]
     },
     "metadata": {},
     "output_type": "display_data"
    }
   ],
   "source": [
    "clear\n",
    "tic\n",
    "\n",
    "d = 3; % dimension of Hilbert space\n",
    "m = 2; % number of measurements\n",
    "\n",
    "nrun = 1000;\n",
    "data = zeros(1,d^m);\n",
    "\n",
    "for run = 1:nrun;\n",
    "\n",
    "    C = sampleCompatibleBoundary(d,m);\n",
    "    data(1,C) = data(1,C) + 1;\n",
    "    \n",
    "end\n",
    "\n",
    "%bar(data/nrun)\n",
    "\n",
    "toc\n",
    "\n",
    "dataname = strcat(pwd,'/data/sampleCompBound_data_',num2str(d),'_',num2str(m),'.mat');\n",
    "\n",
    "if exist(dataname) == 2\n",
    "    datanew = data;\n",
    "    load(dataname);\n",
    "    data = data + datanew;\n",
    "    save(dataname,'data');\n",
    "else\n",
    "    save(dataname,'data');\n",
    "end\n",
    "\n",
    "bar(data/sum(data))"
   ]
  },
  {
   "cell_type": "markdown",
   "metadata": {},
   "source": [
    "### (d = 4, m = 2) data collection"
   ]
  },
  {
   "cell_type": "code",
   "execution_count": 321,
   "metadata": {},
   "outputs": [
    {
     "name": "stdout",
     "output_type": "stream",
     "text": [
      "Elapsed time is 4219.692281 seconds.\n"
     ]
    },
    {
     "data": {
      "image/png": "[encoded data removed]",
      "text/plain": [
       "<IPython.core.display.Image object>"
      ]
     },
     "metadata": {},
     "output_type": "display_data"
    }
   ],
   "source": [
    "clear\n",
    "tic\n",
    "\n",
    "d = 4; % dimension of Hilbert space\n",
    "m = 2; % number of measurements\n",
    "\n",
    "nrun = 1000;\n",
    "data = zeros(1,d^m);\n",
    "\n",
    "for run = 1:nrun;\n",
    "\n",
    "    C = sampleCompatibleBoundary(d,m);\n",
    "    data(1,C) = data(1,C) + 1;\n",
    "    \n",
    "end\n",
    "\n",
    "%bar(data/nrun)\n",
    "\n",
    "toc\n",
    "\n",
    "dataname = strcat(pwd,'/data/sampleCompBound_data_',num2str(d),'_',num2str(m),'.mat');\n",
    "\n",
    "if exist(dataname) == 2\n",
    "    datanew = data;\n",
    "    load(dataname);\n",
    "    data = data + datanew;\n",
    "    save(dataname,'data');\n",
    "else\n",
    "    save(dataname,'data');\n",
    "end\n",
    "\n",
    "bar(data/sum(data))"
   ]
  },
  {
   "cell_type": "markdown",
   "metadata": {},
   "source": [
    "### (d = 5, m = 2) data collection"
   ]
  },
  {
   "cell_type": "code",
   "execution_count": 322,
   "metadata": {},
   "outputs": [
    {
     "name": "stdout",
     "output_type": "stream",
     "text": [
      "Elapsed time is 9202.887044 seconds.\n"
     ]
    },
    {
     "data": {
      "image/png": "[encoded data removed]",
      "text/plain": [
       "<IPython.core.display.Image object>"
      ]
     },
     "metadata": {},
     "output_type": "display_data"
    }
   ],
   "source": [
    "clear\n",
    "tic\n",
    "\n",
    "d = 5; % dimension of Hilbert space\n",
    "m = 2; % number of measurements\n",
    "\n",
    "nrun = 1000;\n",
    "data = zeros(1,d^m);\n",
    "\n",
    "for run = 1:nrun;\n",
    "\n",
    "    C = sampleCompatibleBoundary(d,m);\n",
    "    data(1,C) = data(1,C) + 1;\n",
    "    \n",
    "end\n",
    "\n",
    "%bar(data/nrun)\n",
    "\n",
    "toc\n",
    "\n",
    "dataname = strcat(pwd,'/data/sampleCompBound_data_',num2str(d),'_',num2str(m),'.mat');\n",
    "\n",
    "if exist(dataname) == 2\n",
    "    datanew = data;\n",
    "    load(dataname);\n",
    "    data = data + datanew;\n",
    "    save(dataname,'data');\n",
    "else\n",
    "    save(dataname,'data');\n",
    "end\n",
    "\n",
    "bar(data/sum(data))"
   ]
  },
  {
   "cell_type": "markdown",
   "metadata": {},
   "source": [
    "### (d = 2,m = 3) data collection"
   ]
  },
  {
   "cell_type": "code",
   "execution_count": 323,
   "metadata": {},
   "outputs": [
    {
     "name": "stdout",
     "output_type": "stream",
     "text": [
      "Elapsed time is 1809.134337 seconds.\n"
     ]
    },
    {
     "data": {
      "image/png": "[encoded data removed]",
      "text/plain": [
       "<IPython.core.display.Image object>"
      ]
     },
     "metadata": {},
     "output_type": "display_data"
    }
   ],
   "source": [
    "clear\n",
    "tic\n",
    "\n",
    "d = 2; % dimension of Hilbert space\n",
    "m = 3; % number of measurements\n",
    "\n",
    "nrun = 1000;\n",
    "data = zeros(1,d^m);\n",
    "\n",
    "for run = 1:nrun;\n",
    "\n",
    "    C = sampleCompatibleBoundary(d,m);\n",
    "    data(1,C) = data(1,C) + 1;\n",
    "    \n",
    "end\n",
    "\n",
    "%bar(data/nrun)\n",
    "\n",
    "toc\n",
    "\n",
    "dataname = strcat(pwd,'/data/sampleCompBound_data_',num2str(d),'_',num2str(m),'.mat');\n",
    "\n",
    "if exist(dataname) == 2\n",
    "    datanew = data;\n",
    "    load(dataname);\n",
    "    data = data + datanew;\n",
    "    save(dataname,'data');\n",
    "else\n",
    "    save(dataname,'data');\n",
    "end\n",
    "\n",
    "bar(data/sum(data))"
   ]
  },
  {
   "cell_type": "markdown",
   "metadata": {},
   "source": [
    "### (d = 3,m = 3) data collection"
   ]
  },
  {
   "cell_type": "code",
   "execution_count": 324,
   "metadata": {},
   "outputs": [
    {
     "name": "stdout",
     "output_type": "stream",
     "text": [
      "Elapsed time is 179899.836701 seconds.\n"
     ]
    },
    {
     "data": {
      "image/png": "[encoded data removed]",
      "text/plain": [
       "<IPython.core.display.Image object>"
      ]
     },
     "metadata": {},
     "output_type": "display_data"
    }
   ],
   "source": [
    "clear\n",
    "tic\n",
    "\n",
    "d = 3; % dimension of Hilbert space\n",
    "m = 3; % number of measurements\n",
    "\n",
    "nrun = 1000;\n",
    "data = zeros(1,d^m);\n",
    "\n",
    "for run = 1:nrun;\n",
    "\n",
    "    C = sampleCompatibleBoundary(d,m);\n",
    "    data(1,C) = data(1,C) + 1;\n",
    "    \n",
    "end\n",
    "\n",
    "%bar(data/nrun)\n",
    "\n",
    "toc\n",
    "\n",
    "dataname = strcat(pwd,'/data/sampleCompBound_data_',num2str(d),'_',num2str(m),'.mat');\n",
    "\n",
    "if exist(dataname) == 2\n",
    "    datanew = data;\n",
    "    load(dataname);\n",
    "    data = data + datanew;\n",
    "    save(dataname,'data');\n",
    "else\n",
    "    save(dataname,'data');\n",
    "end\n",
    "\n",
    "bar(data/sum(data))"
   ]
  },
  {
   "cell_type": "markdown",
   "metadata": {},
   "source": [
    "### (d = 2,m = 4) data collection"
   ]
  },
  {
   "cell_type": "code",
   "execution_count": 325,
   "metadata": {},
   "outputs": [
    {
     "name": "stdout",
     "output_type": "stream",
     "text": [
      "Elapsed time is 38062.394908 seconds.\n"
     ]
    },
    {
     "data": {
      "image/png": "[encoded data removed]",
      "text/plain": [
       "<IPython.core.display.Image object>"
      ]
     },
     "metadata": {},
     "output_type": "display_data"
    }
   ],
   "source": [
    "clear\n",
    "tic\n",
    "\n",
    "d = 2; % dimension of Hilbert space\n",
    "m = 4; % number of measurements\n",
    "\n",
    "nrun = 1000;\n",
    "data = zeros(1,d^m);\n",
    "\n",
    "for run = 1:nrun;\n",
    "\n",
    "    C = sampleCompatibleBoundary(d,m);\n",
    "    data(1,C) = data(1,C) + 1;\n",
    "    \n",
    "end\n",
    "\n",
    "%bar(data/nrun)\n",
    "\n",
    "toc\n",
    "\n",
    "dataname = strcat(pwd,'/data/sampleCompBound_data_',num2str(d),'_',num2str(m),'.mat');\n",
    "\n",
    "if exist(dataname) == 2\n",
    "    datanew = data;\n",
    "    load(dataname);\n",
    "    data = data + datanew;\n",
    "    save(dataname,'data');\n",
    "else\n",
    "    save(dataname,'data');\n",
    "end\n",
    "\n",
    "bar(data/sum(data))"
   ]
  },
  {
   "cell_type": "markdown",
   "metadata": {},
   "source": [
    "### (d = 2,m = 5) data collection"
   ]
  },
  {
   "cell_type": "code",
   "execution_count": null,
   "metadata": {},
   "outputs": [],
   "source": [
    "clear\n",
    "tic\n",
    "\n",
    "d = 2; % dimension of Hilbert space\n",
    "m = 5; % number of measurements\n",
    "\n",
    "nrun = 1000;\n",
    "data = zeros(1,d^m);\n",
    "\n",
    "for run = 1:nrun;\n",
    "\n",
    "    C = sampleCompatibleBoundary(d,m);\n",
    "    data(1,C) = data(1,C) + 1;\n",
    "    \n",
    "end\n",
    "\n",
    "%bar(data/nrun)\n",
    "\n",
    "toc\n",
    "\n",
    "dataname = strcat(pwd,'/data/sampleCompBound_data_',num2str(d),'_',num2str(m),'.mat');\n",
    "\n",
    "if exist(dataname) == 2\n",
    "    datanew = data;\n",
    "    load(dataname);\n",
    "    data = data + datanew;\n",
    "    save(dataname,'data');\n",
    "else\n",
    "    save(dataname,'data');\n",
    "end\n",
    "\n",
    "bar(data/sum(data))"
   ]
  },
  {
   "cell_type": "markdown",
   "metadata": {},
   "source": [
    "### Code to check whether a set of measurements is maximally complex"
   ]
  },
  {
   "cell_type": "code",
   "execution_count": 273,
   "metadata": {},
   "outputs": [
    {
     "name": "stdout",
     "output_type": "stream",
     "text": [
      "Created file '/home/phyps/Dropbox/MATLAB/Noah/searchMaximallyComplexCompatible.m'.\n"
     ]
    }
   ],
   "source": [
    "%%file searchMaximallyComplexCompatible.m\n",
    "\n",
    "function [C,list,result,result_consist] = searchMaximallyComplexCompatible(d,m)\n",
    "\n",
    "o = d;\n",
    "nd = o^m; % number of outcomes of maximal parent\n",
    "eps = 1e-7; % tolerance for having found a parent\n",
    "flag = 0;\n",
    "\n",
    "Max = genRandProjMeas(d,m);\n",
    "Max = Max(:,:,1:o-1,:);\n",
    "\n",
    "SingleParty = genSinglePartyArray(o,m); % generate deterministic strategies\n",
    "SingleParty = SingleParty(1:o-1,:,:); % don't need last outcome\n",
    "\n",
    "% 1. obtain dual variables\n",
    "\n",
    "cvx_begin sdp quiet\n",
    "\n",
    "    variable nu \n",
    "    variable Glam(d,d,nd) hermitian\n",
    "\n",
    "    dual variable rhoax\n",
    "    dual variable omega\n",
    "\n",
    "    maximise nu\n",
    "\n",
    "    rhoax : Max == sum(permute(repmat(SingleParty,[1,1,1,d,d]),[4,5,1,2,3]).*...\n",
    "    permute(repmat(Glam,[1,1,1,o-1,m]),[1,2,4,5,3]),5);\n",
    "\n",
    "    omega : eye(d) == sum(Glam,3);\n",
    "\n",
    "    for j = 1:nd\n",
    "        Glam(:,:,j) - nu*eye(d) == hermitian_semidefinite(d)\n",
    "    end\n",
    "\n",
    "    nu <= 0\n",
    "\n",
    "cvx_end\n",
    "\n",
    "% 2. Find compatible measurements minimising linear functional\n",
    "\n",
    "cvx_begin quiet\n",
    "\n",
    "    variable Glam(d,d,nd) hermitian semidefinite\n",
    "    expression Nax(d,d,o-1,m)\n",
    "\n",
    "    Nax = sum(permute(repmat(SingleParty,[1,1,1,d,d]),[4,5,1,2,3]).*...\n",
    "    permute(repmat(Glam,[1,1,1,o-1,m]),[1,2,4,5,3]),5);\n",
    "\n",
    "    minimise real(sumall(conj(rhoax).*Nax(:,:,1:o-1,:))) + trace(omega)\n",
    "\n",
    "    sum(Glam,3) == eye(d)\n",
    "\n",
    "cvx_end\n",
    "\n",
    "% check the eigenvalue of the found parent:\n",
    "\n",
    "\n",
    "cvx_begin sdp quiet\n",
    "\n",
    "    variable nu \n",
    "    variable Glam(d,d,nd) hermitian\n",
    "\n",
    "    maximise nu\n",
    "\n",
    "    Nax == sum(permute(repmat(SingleParty,[1,1,1,d,d]),[4,5,1,2,3]).*...\n",
    "        permute(repmat(Glam,[1,1,1,o-1,m]),[1,2,4,5,3]),5);\n",
    "\n",
    "    eye(d) == sum(Glam,3);\n",
    "\n",
    "    for j = 1:nd\n",
    "        Glam(:,:,j) - nu*eye(d) == hermitian_semidefinite(d)\n",
    "    end\n",
    "\n",
    "    nu <= 0\n",
    "\n",
    "cvx_end\n",
    "\n",
    "result_consist = cvx_optval;\n",
    "\n",
    "% 3. check for simpler parent\n",
    "\n",
    "results = NaN*zeros(1,nd);\n",
    "\n",
    "for i = 1:nd\n",
    "\n",
    "    cvx_begin sdp quiet\n",
    "\n",
    "        variable nu \n",
    "        variable Glam(d,d,nd) hermitian\n",
    "\n",
    "        maximise nu\n",
    "\n",
    "        Nax == sum(permute(repmat(SingleParty,[1,1,1,d,d]),[4,5,1,2,3]).*...\n",
    "            permute(repmat(Glam,[1,1,1,o-1,m]),[1,2,4,5,3]),5);\n",
    "\n",
    "        eye(d) == sum(Glam,3);\n",
    "\n",
    "        for j = 1:nd\n",
    "            Glam(:,:,j) - nu*eye(d) == hermitian_semidefinite(d)\n",
    "        end\n",
    "\n",
    "        nu <= 0\n",
    "\n",
    "        Glam(:,:,i) == zeros(d)\n",
    "\n",
    "    cvx_end\n",
    "\n",
    "    results(1,i) = cvx_optval;\n",
    "end\n",
    "\n",
    "% now the complicated bit: try and search (smartly) for the number of elements needed\n",
    "\n",
    "list = find(results >= -eps); % generate primary list\n",
    "n1 = length(list); % find its size\n",
    "\n",
    "if n1 == 0\n",
    "    C = true;\n",
    "else\n",
    "    C = false;\n",
    "end\n",
    "\n",
    "result = max(results);\n",
    "\n",
    "end\n",
    "    "
   ]
  },
  {
   "cell_type": "markdown",
   "metadata": {},
   "source": [
    "Now let's use this to test for different situations:"
   ]
  },
  {
   "cell_type": "code",
   "execution_count": 239,
   "metadata": {},
   "outputs": [
    {
     "name": "stdout",
     "output_type": "stream",
     "text": [
      "C =\n",
      "  logical\n",
      "   1\n",
      "list =\n",
      "  1x0 empty double row vector\n",
      "result =\n",
      "   -0.0362\n",
      "result_consist =\n",
      "  -2.0506e-09\n"
     ]
    }
   ],
   "source": [
    "[C,list,result,result_consist] = searchMaximallyComplexCompatible(3,2)"
   ]
  },
  {
   "cell_type": "code",
   "execution_count": 242,
   "metadata": {},
   "outputs": [
    {
     "name": "stdout",
     "output_type": "stream",
     "text": [
      "C =\n",
      "  logical\n",
      "   1\n",
      "list =\n",
      "  1x0 empty double row vector\n",
      "result =\n",
      "   -0.0096\n",
      "result_consist =\n",
      "  -3.3003e-08\n"
     ]
    }
   ],
   "source": [
    "[C,list,result,result_consist] = searchMaximallyComplexCompatible(4,2)"
   ]
  },
  {
   "cell_type": "code",
   "execution_count": 249,
   "metadata": {},
   "outputs": [
    {
     "name": "stdout",
     "output_type": "stream",
     "text": [
      "C =\n",
      "  logical\n",
      "   1\n",
      "list =\n",
      "  1x0 empty double row vector\n",
      "result =\n",
      "  -4.4203e-04\n",
      "result_consist =\n",
      "  -1.7995e-08\n"
     ]
    }
   ],
   "source": [
    "[C,list,result,result_consist] = searchMaximallyComplexCompatible(5,2)"
   ]
  },
  {
   "cell_type": "code",
   "execution_count": 250,
   "metadata": {},
   "outputs": [
    {
     "name": "stdout",
     "output_type": "stream",
     "text": [
      "C =\n",
      "  logical\n",
      "   1\n",
      "list =\n",
      "  1x0 empty double row vector\n",
      "result =\n",
      "  -5.6217e-04\n",
      "result_consist =\n",
      "  -1.8224e-08\n"
     ]
    }
   ],
   "source": [
    "[C,list,result,result_consist] = searchMaximallyComplexCompatible(6,2)"
   ]
  },
  {
   "cell_type": "code",
   "execution_count": 274,
   "metadata": {},
   "outputs": [
    {
     "name": "stdout",
     "output_type": "stream",
     "text": [
      "C =\n",
      "  logical\n",
      "   1\n",
      "list =\n",
      "  1x0 empty double row vector\n",
      "result =\n",
      "  -1.3248e-04\n",
      "result_consist =\n",
      "  -6.3308e-08\n"
     ]
    }
   ],
   "source": [
    "[C,list,result,result_consist] = searchMaximallyComplexCompatible(7,2)"
   ]
  },
  {
   "cell_type": "code",
   "execution_count": 270,
   "metadata": {},
   "outputs": [
    {
     "name": "stdout",
     "output_type": "stream",
     "text": [
      "C =\n",
      "  logical\n",
      "   1\n",
      "list =\n",
      "  1x0 empty double row vector\n",
      "result =\n",
      "  -1.0024e-06\n",
      "result_consist =\n",
      "  -5.5555e-08\n"
     ]
    }
   ],
   "source": [
    "[C,list,result,result_consist] = searchMaximallyComplexCompatible(8,2)"
   ]
  },
  {
   "cell_type": "code",
   "execution_count": 271,
   "metadata": {},
   "outputs": [
    {
     "name": "stdout",
     "output_type": "stream",
     "text": [
      "C =\n",
      "  logical\n",
      "   1\n",
      "list =\n",
      "  1x0 empty double row vector\n",
      "result =\n",
      "  -3.2350e-06\n",
      "result_consist =\n",
      "  -3.2380e-08\n"
     ]
    }
   ],
   "source": [
    "[C,list,result,result_consist] = searchMaximallyComplexCompatible(9,2)"
   ]
  },
  {
   "cell_type": "code",
   "execution_count": 272,
   "metadata": {},
   "outputs": [
    {
     "name": "stdout",
     "output_type": "stream",
     "text": [
      "C =\n",
      "  logical\n",
      "   1\n",
      "list =\n",
      "  1x0 empty double row vector\n",
      "result =\n",
      "  -4.5180e-06\n",
      "result_consist =\n",
      "  -1.9607e-08\n"
     ]
    }
   ],
   "source": [
    "[C,list,result,result_consist] = searchMaximallyComplexCompatible(10,2)"
   ]
  },
  {
   "cell_type": "code",
   "execution_count": null,
   "metadata": {},
   "outputs": [],
   "source": []
  }
 ],
 "metadata": {
  "kernelspec": {
   "display_name": "Matlab",
   "language": "matlab",
   "name": "matlab"
  },
  "language_info": {
   "codemirror_mode": "octave",
   "file_extension": ".m",
   "help_links": [
    {
     "text": "MetaKernel Magics",
     "url": "https://github.com/calysto/metakernel/blob/master/metakernel/magics/README.md"
    }
   ],
   "mimetype": "text/x-octave",
   "name": "matlab",
   "version": "0.15.0"
  }
 },
 "nbformat": 4,
 "nbformat_minor": 2
}
